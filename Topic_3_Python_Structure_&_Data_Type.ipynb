{
  "cells": [
    {
      "cell_type": "markdown",
      "metadata": {
        "id": "view-in-github",
        "colab_type": "text"
      },
      "source": [
        "<a href=\"https://colab.research.google.com/github/Syarafina-Dewi/data-analytics/blob/main/Topic_3_Python_Structure_%26_Data_Type.ipynb\" target=\"_parent\"><img src=\"https://colab.research.google.com/assets/colab-badge.svg\" alt=\"Open In Colab\"/></a>"
      ]
    },
    {
      "cell_type": "markdown",
      "metadata": {
        "id": "f6LjKU50-tD8"
      },
      "source": [
        "##Topic 3 - Python Structure & Data Type Assignment\n"
      ]
    },
    {
      "cell_type": "markdown",
      "metadata": {
        "id": "MPuR878HZEbx"
      },
      "source": [
        "# Data Type Declaration"
      ]
    },
    {
      "cell_type": "markdown",
      "metadata": {
        "id": "GyS5I54D-3K9"
      },
      "source": [
        "1. > Create an empty variable"
      ]
    },
    {
      "cell_type": "code",
      "execution_count": null,
      "metadata": {
        "id": "jehesBY-_aKL",
        "outputId": "992e4f75-500a-4783-8f77-8eff458354a7"
      },
      "outputs": [
        {
          "data": {
            "text/plain": [
              "''"
            ]
          },
          "execution_count": 35,
          "metadata": {},
          "output_type": "execute_result"
        }
      ],
      "source": [
        "#Code goes here\n",
        "var = \"\"\n",
        "var"
      ]
    },
    {
      "cell_type": "markdown",
      "metadata": {
        "id": "6zCz3qZ8_bu2"
      },
      "source": [
        "2. > Create a variable containing your name"
      ]
    },
    {
      "cell_type": "code",
      "execution_count": null,
      "metadata": {
        "id": "1wT8jnI6_f-U",
        "outputId": "fddc78fa-9f9d-4618-95a5-83f3c2487261"
      },
      "outputs": [
        {
          "data": {
            "text/plain": [
              "'Syarafina Dewi'"
            ]
          },
          "execution_count": 2,
          "metadata": {},
          "output_type": "execute_result"
        }
      ],
      "source": [
        "#Code goes here\n",
        "Name = \"Syarafina Dewi\"\n",
        "Name"
      ]
    },
    {
      "cell_type": "markdown",
      "metadata": {
        "id": "ApatE8m__2Ud"
      },
      "source": [
        "3. > Create a list of 5 items you can find in the classroom"
      ]
    },
    {
      "cell_type": "code",
      "execution_count": null,
      "metadata": {
        "id": "-Q0Ynqx1_6hF",
        "outputId": "e651c987-09af-47fb-c739-e850ad7927e8"
      },
      "outputs": [
        {
          "data": {
            "text/plain": [
              "['book', 'ruller', 'pencil', 'white board', 'eraser']"
            ]
          },
          "execution_count": 4,
          "metadata": {},
          "output_type": "execute_result"
        }
      ],
      "source": [
        "#Code goes here\n",
        "Item = [\"book\", \"ruller\", \"pencil\", \"white board\", \"eraser\"]\n",
        "Item"
      ]
    },
    {
      "cell_type": "markdown",
      "metadata": {
        "id": "6FwMmy_9AS5N"
      },
      "source": [
        "4. > Create a dictionary containing 2 keys and value"
      ]
    },
    {
      "cell_type": "code",
      "execution_count": null,
      "metadata": {
        "id": "xLc2AlhtASOm",
        "outputId": "a5809f24-1444-4fe3-cc62-48f548149fc1"
      },
      "outputs": [
        {
          "data": {
            "text/plain": [
              "{'Name': ['Fina', 'Ari'], 'Age': [21, 29]}"
            ]
          },
          "execution_count": 5,
          "metadata": {},
          "output_type": "execute_result"
        }
      ],
      "source": [
        "#Code goes here\n",
        "new_dict = {\n",
        "    \"Name\": [\"Fina\", \"Ari\"],\n",
        "    \"Age\": [21, 29]\n",
        "}\n",
        "new_dict"
      ]
    },
    {
      "cell_type": "markdown",
      "metadata": {
        "id": "6AqPfAS7a1Oi"
      },
      "source": [
        "# Basic Data Operation"
      ]
    },
    {
      "cell_type": "markdown",
      "metadata": {
        "id": "-ZZF1cXlbqkJ"
      },
      "source": [
        "You sold 20 pieces of electronics at the price of 12000. The customer gets a total discount of 10%.\n",
        "\n",
        "Below are those variables:\n",
        "\n",
        "1.   price=12000\n",
        "2.   quantity_sold=20\n",
        "3.   discount=10%\n",
        "\n",
        "\n",
        "Using Python code, write the code the find the total money that the customer to pay."
      ]
    },
    {
      "cell_type": "code",
      "execution_count": null,
      "metadata": {
        "id": "90T0A2HvbcCK",
        "outputId": "35da2b45-697c-4760-a274-dd3276a4eaed"
      },
      "outputs": [
        {
          "data": {
            "text/plain": [
              "216000.0"
            ]
          },
          "execution_count": 6,
          "metadata": {},
          "output_type": "execute_result"
        }
      ],
      "source": [
        "#Code goes here\n",
        "price=12000\n",
        "quantity_sold=20\n",
        "discount=0.1\n",
        "\n",
        "total=(price*quantity_sold)-((price*quantity_sold)*discount)\n",
        "total"
      ]
    },
    {
      "cell_type": "markdown",
      "metadata": {
        "id": "G-HHsg4la6mJ"
      },
      "source": [
        "# List Data Operation"
      ]
    },
    {
      "cell_type": "markdown",
      "metadata": {
        "id": "NdoSjVZ4Zbqg"
      },
      "source": [
        "5. > Follow the instructions in the code blocks\n",
        "\n",
        "\n",
        "\n"
      ]
    },
    {
      "cell_type": "code",
      "execution_count": null,
      "metadata": {
        "id": "xsFxlZGLaQ7y",
        "outputId": "af00c1bf-8244-4333-d777-b3daa5426d79"
      },
      "outputs": [
        {
          "data": {
            "text/plain": [
              "['Indonesia',\n",
              " 'South Korea',\n",
              " 'Japan',\n",
              " 'China',\n",
              " 'Singapore',\n",
              " 'Australia',\n",
              " 'Canada']"
            ]
          },
          "execution_count": 22,
          "metadata": {},
          "output_type": "execute_result"
        }
      ],
      "source": [
        "# Create list of countries in the world (total 7 countries)\n",
        "\n",
        "#Code goes here\n",
        "countries=[\"Indonesia\",\"South Korea\",\"Japan\",\"China\",\"Singapore\",\"Australia\",\"Canada\"]\n",
        "countries"
      ]
    },
    {
      "cell_type": "code",
      "execution_count": null,
      "metadata": {
        "id": "6Se125DabJ6R",
        "outputId": "e9865c26-e5ab-44f0-bd9b-b9e680798f5d"
      },
      "outputs": [
        {
          "data": {
            "text/plain": [
              "['Indonesia', 'South Korea', 'Japan', 'China']"
            ]
          },
          "execution_count": 23,
          "metadata": {},
          "output_type": "execute_result"
        }
      ],
      "source": [
        "# Get 4 countries from the first index of the list\n",
        "\n",
        "#Code goes here\n",
        "countries[0:4]"
      ]
    },
    {
      "cell_type": "code",
      "execution_count": null,
      "metadata": {
        "id": "FSU5QfExbKAh",
        "outputId": "a0c64371-267c-425c-d1bd-e69ed1084854"
      },
      "outputs": [
        {
          "data": {
            "text/plain": [
              "['Indonesia',\n",
              " 'South Korea',\n",
              " 'Japan',\n",
              " 'China',\n",
              " 'Singapore',\n",
              " 'Australia',\n",
              " 'Canada',\n",
              " 'America']"
            ]
          },
          "execution_count": 24,
          "metadata": {},
          "output_type": "execute_result"
        }
      ],
      "source": [
        "# Append new country to the list\n",
        "\n",
        "#Code goes here\n",
        "countries.append(\"America\")\n",
        "countries"
      ]
    },
    {
      "cell_type": "code",
      "execution_count": null,
      "metadata": {
        "id": "DlvXbKlnbKGR",
        "outputId": "00e524f5-7614-4de7-ec7c-e8df1e1ce48d"
      },
      "outputs": [
        {
          "data": {
            "text/plain": [
              "['Indonesia',\n",
              " 'South Korea',\n",
              " 'Japan',\n",
              " 'China',\n",
              " 'Singapore',\n",
              " 'Australia',\n",
              " 'Canada']"
            ]
          },
          "execution_count": 25,
          "metadata": {},
          "output_type": "execute_result"
        }
      ],
      "source": [
        "# Drop one country from the list\n",
        "\n",
        "#Code goes here\n",
        "countries.remove(\"America\")\n",
        "countries"
      ]
    },
    {
      "cell_type": "code",
      "execution_count": null,
      "metadata": {
        "id": "F1NJ6JCQbKJ7",
        "outputId": "c68507c1-1fcf-4b57-a57f-0e40608e9856"
      },
      "outputs": [
        {
          "data": {
            "text/plain": [
              "'Canada'"
            ]
          },
          "execution_count": 28,
          "metadata": {},
          "output_type": "execute_result"
        }
      ],
      "source": [
        "# Get country in the last index\n",
        "\n",
        "#Code goes here\n",
        "countries[-1]"
      ]
    },
    {
      "cell_type": "markdown",
      "metadata": {
        "id": "Kfkq-SmIdJR6"
      },
      "source": [
        "# Dictionary Data Operation"
      ]
    },
    {
      "cell_type": "markdown",
      "metadata": {
        "id": "WyJ8CJzdeMiS"
      },
      "source": [
        "6. >  Follow the instructions below\n",
        "\n",
        "\n",
        "\n"
      ]
    },
    {
      "cell_type": "code",
      "execution_count": null,
      "metadata": {
        "id": "fVHYIKLwdMfq"
      },
      "outputs": [],
      "source": [
        "# Given the dictionary below\n",
        "\n",
        "customer={\n",
        "    \"name\":['Dio','Eka','Wayu','Riki'],\n",
        "    \"age\":[20,19,24,39],\n",
        "    \"gender\":[1,0,0,1],\n",
        "    \"membership\":['Platinum','Gold','Silver','Silver']\n",
        "}"
      ]
    },
    {
      "cell_type": "code",
      "execution_count": null,
      "metadata": {
        "id": "LpRVtz4_eJK5",
        "outputId": "50c05386-fc9d-4d7e-a7f8-468577321a5f"
      },
      "outputs": [
        {
          "data": {
            "text/plain": [
              "dict_keys(['name', 'age', 'gender', 'membership'])"
            ]
          },
          "execution_count": 30,
          "metadata": {},
          "output_type": "execute_result"
        }
      ],
      "source": [
        "# Print all keys in customer\n",
        "\n",
        "#Code goes here\n",
        "customer.keys()"
      ]
    },
    {
      "cell_type": "code",
      "execution_count": null,
      "metadata": {
        "id": "QiEMM94FeYrz",
        "outputId": "829e072c-109f-4581-93b3-eb2098e0a50c"
      },
      "outputs": [
        {
          "data": {
            "text/plain": [
              "['Dio', 'Eka', 'Wayu', 'Riki']"
            ]
          },
          "execution_count": 31,
          "metadata": {},
          "output_type": "execute_result"
        }
      ],
      "source": [
        "# Print all customer names\n",
        "\n",
        "#Code goes here\n",
        "customer[\"name\"]"
      ]
    },
    {
      "cell_type": "code",
      "execution_count": null,
      "metadata": {
        "id": "P2SeErUGgQ-D",
        "outputId": "1907e260-8952-4f14-fe17-ca48e92af4cc"
      },
      "outputs": [
        {
          "data": {
            "text/plain": [
              "'Dio'"
            ]
          },
          "execution_count": 32,
          "metadata": {},
          "output_type": "execute_result"
        }
      ],
      "source": [
        "# Print the first customer name\n",
        "\n",
        "#Code goes here\n",
        "customer[\"name\"][0]"
      ]
    },
    {
      "cell_type": "code",
      "execution_count": null,
      "metadata": {
        "id": "c3PlmHxueiPy",
        "outputId": "58b1f5d2-21e4-462f-9427-983d6c0c9c6d"
      },
      "outputs": [
        {
          "data": {
            "text/plain": [
              "{'name': ['Dio', 'Eka', 'Wayu', 'Riki'],\n",
              " 'gender': [1, 0, 0, 1],\n",
              " 'membership': ['Platinum', 'Gold', 'Silver', 'Silver']}"
            ]
          },
          "execution_count": 33,
          "metadata": {},
          "output_type": "execute_result"
        }
      ],
      "source": [
        "# Drop \"age\" key from the dictionary\n",
        "\n",
        "#Code goes here\n",
        "customer.pop(\"age\")\n",
        "customer"
      ]
    },
    {
      "cell_type": "code",
      "execution_count": null,
      "metadata": {
        "id": "FgXDh9mIea9x",
        "outputId": "b97fdcc2-60d6-442f-cabc-627556d0b960"
      },
      "outputs": [
        {
          "data": {
            "text/plain": [
              "{'name': ['Dio', 'Eka', 'Wayu', 'Riki'],\n",
              " 'gender': ['Male', 'Female', 'Female', 'Male'],\n",
              " 'membership': ['Platinum', 'Gold', 'Silver', 'Silver']}"
            ]
          },
          "execution_count": 34,
          "metadata": {},
          "output_type": "execute_result"
        }
      ],
      "source": [
        "# Replace customer gender list value\n",
        "# gender 1 => Male\n",
        "# gender 0 => Female \n",
        "\n",
        "\n",
        "#Code goes here\n",
        "customer [\"gender\"] = [\"Male\",\"Female\",\"Female\",\"Male\"]\n",
        "customer"
      ]
    }
  ],
  "metadata": {
    "colab": {
      "provenance": [],
      "include_colab_link": true
    },
    "kernelspec": {
      "display_name": "Python 3.10.5 64-bit",
      "language": "python",
      "name": "python3"
    },
    "language_info": {
      "codemirror_mode": {
        "name": "ipython",
        "version": 3
      },
      "file_extension": ".py",
      "mimetype": "text/x-python",
      "name": "python",
      "nbconvert_exporter": "python",
      "pygments_lexer": "ipython3",
      "version": "3.10.5"
    },
    "vscode": {
      "interpreter": {
        "hash": "876db7d3f8682b7e4c5477e5f1e2dc2bd1b19fe05d9aabd59218369070754b39"
      }
    }
  },
  "nbformat": 4,
  "nbformat_minor": 0
}