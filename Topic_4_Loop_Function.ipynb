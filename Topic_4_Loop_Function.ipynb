{
  "nbformat": 4,
  "nbformat_minor": 0,
  "metadata": {
    "colab": {
      "provenance": [],
      "authorship_tag": "ABX9TyN9nHssCR6KXlAVyVnI6gl6",
      "include_colab_link": true
    },
    "kernelspec": {
      "name": "python3",
      "display_name": "Python 3"
    },
    "language_info": {
      "name": "python"
    }
  },
  "cells": [
    {
      "cell_type": "markdown",
      "metadata": {
        "id": "view-in-github",
        "colab_type": "text"
      },
      "source": [
        "<a href=\"https://colab.research.google.com/github/Syarafina-Dewi/data-analytics/blob/main/Topic_4_Loop_Function.ipynb\" target=\"_parent\"><img src=\"https://colab.research.google.com/assets/colab-badge.svg\" alt=\"Open In Colab\"/></a>"
      ]
    },
    {
      "cell_type": "code",
      "execution_count": null,
      "metadata": {
        "colab": {
          "base_uri": "https://localhost:8080/"
        },
        "id": "0fC3hFoXbcwl",
        "outputId": "a6b466d6-e941-4b79-99d9-36fd57b739ca"
      },
      "outputs": [
        {
          "output_type": "stream",
          "name": "stdout",
          "text": [
            "Number is hiher than 5\n"
          ]
        }
      ],
      "source": [
        "number=10\n",
        "if(number>5):\n",
        "  print('Number is hiher than 5')"
      ]
    },
    {
      "cell_type": "code",
      "source": [
        "number=-10\n",
        "\n",
        "if(number>5):\n",
        "  print('Number is higer than 5')\n",
        "else:\n",
        "  print('Number is not higer than 5')"
      ],
      "metadata": {
        "colab": {
          "base_uri": "https://localhost:8080/"
        },
        "id": "fpv9l1q1bmOb",
        "outputId": "3184f205-be78-479f-d7c6-fe4e9ec832e5"
      },
      "execution_count": null,
      "outputs": [
        {
          "output_type": "stream",
          "name": "stdout",
          "text": [
            "Number is not higer than 5\n"
          ]
        }
      ]
    },
    {
      "cell_type": "code",
      "source": [
        "a=10\n",
        "\n",
        "if(a>5 and a>20):\n",
        "  print(\"yes\")\n",
        "else:\n",
        "  print(\"no\")"
      ],
      "metadata": {
        "colab": {
          "base_uri": "https://localhost:8080/"
        },
        "id": "tsd_gal5c-Ox",
        "outputId": "722dab61-9525-4669-9aab-36a751689013"
      },
      "execution_count": null,
      "outputs": [
        {
          "output_type": "stream",
          "name": "stdout",
          "text": [
            "no\n"
          ]
        }
      ]
    },
    {
      "cell_type": "code",
      "source": [
        "drinks=[\"coffee\",\"tea\",\"juice\"]\n",
        "drinks"
      ],
      "metadata": {
        "colab": {
          "base_uri": "https://localhost:8080/"
        },
        "id": "GKpRFx2Kb3VJ",
        "outputId": "d62d0fd6-dfcc-4e7f-fd78-afd69b323d90"
      },
      "execution_count": null,
      "outputs": [
        {
          "output_type": "execute_result",
          "data": {
            "text/plain": [
              "['coffee', 'tea', 'juice']"
            ]
          },
          "metadata": {},
          "execution_count": 5
        }
      ]
    },
    {
      "cell_type": "code",
      "source": [
        "#apakah ada tea di drinks list?\n",
        "\"tea\" in drinks"
      ],
      "metadata": {
        "colab": {
          "base_uri": "https://localhost:8080/"
        },
        "id": "w9KQXKFSdIea",
        "outputId": "1c8cf0ea-d216-4734-a2f3-62463071447c"
      },
      "execution_count": null,
      "outputs": [
        {
          "output_type": "execute_result",
          "data": {
            "text/plain": [
              "True"
            ]
          },
          "metadata": {},
          "execution_count": 7
        }
      ]
    },
    {
      "cell_type": "code",
      "source": [
        "if(\"milk\" in drinks):\n",
        "  print(\"we do have milk in stock\")\n",
        "else:\n",
        "  print(\"No, we don't have any\")"
      ],
      "metadata": {
        "colab": {
          "base_uri": "https://localhost:8080/"
        },
        "id": "R8z3VdLTdTiA",
        "outputId": "1a9a3f9c-2b74-49e9-d140-e763e8b12a70"
      },
      "execution_count": null,
      "outputs": [
        {
          "output_type": "stream",
          "name": "stdout",
          "text": [
            "No, we don't have any\n"
          ]
        }
      ]
    },
    {
      "cell_type": "markdown",
      "source": [
        "Loop/Iteration"
      ],
      "metadata": {
        "id": "9mjPFct2dwBL"
      }
    },
    {
      "cell_type": "code",
      "source": [
        "for i in range(14):\n",
        "  print(i+1)"
      ],
      "metadata": {
        "colab": {
          "base_uri": "https://localhost:8080/"
        },
        "id": "gtm5JjIkdhea",
        "outputId": "e6d1f793-125e-4d52-ef09-7d70eafa5288"
      },
      "execution_count": null,
      "outputs": [
        {
          "output_type": "stream",
          "name": "stdout",
          "text": [
            "1\n",
            "2\n",
            "3\n",
            "4\n",
            "5\n",
            "6\n",
            "7\n",
            "8\n",
            "9\n",
            "10\n",
            "11\n",
            "12\n",
            "13\n",
            "14\n"
          ]
        }
      ]
    },
    {
      "cell_type": "code",
      "source": [
        "i=0"
      ],
      "metadata": {
        "id": "5hflaWSReYFn"
      },
      "execution_count": null,
      "outputs": []
    },
    {
      "cell_type": "code",
      "source": [
        "#while loop\n",
        "while(i<5):\n",
        "  print(i)\n",
        "  i=i+1"
      ],
      "metadata": {
        "id": "8Zik-E75elL7"
      },
      "execution_count": null,
      "outputs": []
    },
    {
      "cell_type": "code",
      "source": [
        "#for loop\n",
        "#range\n",
        "for i in range(10):\n",
        "  print(i)"
      ],
      "metadata": {
        "colab": {
          "base_uri": "https://localhost:8080/"
        },
        "id": "3kZwNLsxfPSj",
        "outputId": "f8d80385-1d52-47dd-a2d8-1f6a36afe7c5"
      },
      "execution_count": null,
      "outputs": [
        {
          "output_type": "stream",
          "name": "stdout",
          "text": [
            "0\n",
            "1\n",
            "2\n",
            "3\n",
            "4\n",
            "5\n",
            "6\n",
            "7\n",
            "8\n",
            "9\n"
          ]
        }
      ]
    },
    {
      "cell_type": "code",
      "source": [
        "#print 7-10\n",
        "for i in range(7,11):\n",
        "  print(i)"
      ],
      "metadata": {
        "colab": {
          "base_uri": "https://localhost:8080/"
        },
        "id": "TM9E6-P6fb3E",
        "outputId": "66acf697-c3ea-4659-805b-2561c8642184"
      },
      "execution_count": null,
      "outputs": [
        {
          "output_type": "stream",
          "name": "stdout",
          "text": [
            "7\n",
            "8\n",
            "9\n",
            "10\n"
          ]
        }
      ]
    },
    {
      "cell_type": "code",
      "source": [
        "for i in range(-7,1):\n",
        "  print(i)"
      ],
      "metadata": {
        "colab": {
          "base_uri": "https://localhost:8080/"
        },
        "id": "54lOImiUgQXW",
        "outputId": "6dfd8f6e-9c62-4c06-80d7-6c256e215f31"
      },
      "execution_count": null,
      "outputs": [
        {
          "output_type": "stream",
          "name": "stdout",
          "text": [
            "-7\n",
            "-6\n",
            "-5\n",
            "-4\n",
            "-3\n",
            "-2\n",
            "-1\n",
            "0\n"
          ]
        }
      ]
    },
    {
      "cell_type": "code",
      "source": [
        "for i in range(-20,20,4):\n",
        "  print(i)"
      ],
      "metadata": {
        "colab": {
          "base_uri": "https://localhost:8080/"
        },
        "id": "3WJ8_n-sgbHZ",
        "outputId": "4396e998-7922-4289-ad0a-869451fddac5"
      },
      "execution_count": null,
      "outputs": [
        {
          "output_type": "stream",
          "name": "stdout",
          "text": [
            "-20\n",
            "-16\n",
            "-12\n",
            "-8\n",
            "-4\n",
            "0\n",
            "4\n",
            "8\n",
            "12\n",
            "16\n"
          ]
        }
      ]
    },
    {
      "cell_type": "code",
      "source": [
        "for i in range(20,0,-2):\n",
        "  print(i)"
      ],
      "metadata": {
        "colab": {
          "base_uri": "https://localhost:8080/"
        },
        "id": "A4TcxTcVgnR7",
        "outputId": "896646d5-9a0a-4fe0-9d7b-95064c194b54"
      },
      "execution_count": null,
      "outputs": [
        {
          "output_type": "stream",
          "name": "stdout",
          "text": [
            "20\n",
            "18\n",
            "16\n",
            "14\n",
            "12\n",
            "10\n",
            "8\n",
            "6\n",
            "4\n",
            "2\n"
          ]
        }
      ]
    },
    {
      "cell_type": "markdown",
      "source": [
        "Foor Loop - List"
      ],
      "metadata": {
        "id": "0OkTG0wJhXhK"
      }
    },
    {
      "cell_type": "code",
      "source": [
        "fruits=['apple','orange','banana']\n",
        "\n",
        "for fruit in fruits:\n",
        "  print(fruit)"
      ],
      "metadata": {
        "colab": {
          "base_uri": "https://localhost:8080/"
        },
        "id": "TNAqWV3vgsg0",
        "outputId": "d8bbb730-3ad9-4ab0-b14f-71c93dd477c3"
      },
      "execution_count": null,
      "outputs": [
        {
          "output_type": "stream",
          "name": "stdout",
          "text": [
            "apple\n",
            "orange\n",
            "banana\n"
          ]
        }
      ]
    },
    {
      "cell_type": "code",
      "source": [
        "basket =['apple','orange','banana','watermelon','apple','apple']\n",
        "totalapple=0\n",
        "\n",
        "for fruit in basket:\n",
        "  if(fruit==\"apple\"):\n",
        "    totalapple=totalapple+1\n",
        "\n",
        "print(totalapple)"
      ],
      "metadata": {
        "colab": {
          "base_uri": "https://localhost:8080/"
        },
        "id": "10--pEcUhy98",
        "outputId": "0c0bfa38-81f1-4caf-e8b0-9bd0323176c2"
      },
      "execution_count": null,
      "outputs": [
        {
          "output_type": "stream",
          "name": "stdout",
          "text": [
            "3\n"
          ]
        }
      ]
    },
    {
      "cell_type": "code",
      "source": [
        "exam_scores=[50,55,85,70,90]\n",
        "\n",
        "for exam_score in exam_scores:\n",
        "  if(exam_score>70):\n",
        "    print(exam_score)"
      ],
      "metadata": {
        "colab": {
          "base_uri": "https://localhost:8080/"
        },
        "id": "0vPX7Ki7iLLE",
        "outputId": "9b35a8da-eb94-45ea-a154-8a40b064fa01"
      },
      "execution_count": null,
      "outputs": [
        {
          "output_type": "stream",
          "name": "stdout",
          "text": [
            "85\n",
            "90\n"
          ]
        }
      ]
    },
    {
      "cell_type": "code",
      "source": [
        "numbers = [4,5,10,20,40,60,80]\n",
        "new_list = []\n",
        "\n",
        "for number in numbers:\n",
        "    if(number > 10):\n",
        "        new_list.append(number)\n",
        "print(new_list)"
      ],
      "metadata": {
        "colab": {
          "base_uri": "https://localhost:8080/"
        },
        "id": "JSmv_Rzrino-",
        "outputId": "ca77aacb-96bf-404f-ed34-12f3e23f5abe"
      },
      "execution_count": null,
      "outputs": [
        {
          "output_type": "stream",
          "name": "stdout",
          "text": [
            "[20, 40, 60, 80]\n"
          ]
        }
      ]
    },
    {
      "cell_type": "code",
      "source": [
        "students={\n",
        "    \"Name\":['Bjorka','Rifki','Citra'],\n",
        "    \"Age\":['18','19','20'],\n",
        "    \"Hobby\":['Ngoding','Masak','Makan']\n",
        "}\n",
        "students"
      ],
      "metadata": {
        "colab": {
          "base_uri": "https://localhost:8080/"
        },
        "id": "Ljkp1LwuiisN",
        "outputId": "fc30def1-7bf6-45e3-c69e-636b50277b28"
      },
      "execution_count": null,
      "outputs": [
        {
          "output_type": "execute_result",
          "data": {
            "text/plain": [
              "{'Name': ['Bjorka', 'Rifki', 'Citra'],\n",
              " 'Age': ['18', '19', '20'],\n",
              " 'Hobby': ['Ngoding', 'Masak', 'Makan']}"
            ]
          },
          "metadata": {},
          "execution_count": 42
        }
      ]
    },
    {
      "cell_type": "code",
      "source": [
        "for x in students:\n",
        "  print(x)"
      ],
      "metadata": {
        "colab": {
          "base_uri": "https://localhost:8080/"
        },
        "id": "tQ6ni4guk9L6",
        "outputId": "7f3634ff-4fca-4e5d-9c2f-645f18cc7bd4"
      },
      "execution_count": null,
      "outputs": [
        {
          "output_type": "stream",
          "name": "stdout",
          "text": [
            "Name\n",
            "Age\n",
            "Hobby\n"
          ]
        }
      ]
    },
    {
      "cell_type": "code",
      "source": [
        "for x in students:\n",
        "  #return semua key jadi x\n",
        "  print(students[x])"
      ],
      "metadata": {
        "colab": {
          "base_uri": "https://localhost:8080/"
        },
        "id": "EThgLOYHlDiu",
        "outputId": "076c6e4a-167f-4c4b-b492-b1cbd92fbd71"
      },
      "execution_count": null,
      "outputs": [
        {
          "output_type": "stream",
          "name": "stdout",
          "text": [
            "['Bjorka', 'Rifki', 'Citra']\n",
            "['18', '19', '20']\n",
            "['Ngoding', 'Masak', 'Makan']\n"
          ]
        }
      ]
    },
    {
      "cell_type": "code",
      "source": [
        "for hobby in students['Hobby']:\n",
        "  print(hobby)"
      ],
      "metadata": {
        "colab": {
          "base_uri": "https://localhost:8080/"
        },
        "id": "iWmM6gzxlWbV",
        "outputId": "7decf3a2-2ae2-45de-904f-fd5a9ce9e670"
      },
      "execution_count": null,
      "outputs": [
        {
          "output_type": "stream",
          "name": "stdout",
          "text": [
            "Ngoding\n",
            "Masak\n",
            "Makan\n"
          ]
        }
      ]
    },
    {
      "cell_type": "code",
      "source": [
        "for hobby in students['Hobby']:\n",
        "  if(hobby==\"Masak\"):\n",
        "    print(\"ada yang hobi masak!\")"
      ],
      "metadata": {
        "colab": {
          "base_uri": "https://localhost:8080/"
        },
        "id": "RlzJ_rbYmEye",
        "outputId": "3f3dbdf6-ff58-4d43-f81e-0574293266ce"
      },
      "execution_count": null,
      "outputs": [
        {
          "output_type": "stream",
          "name": "stdout",
          "text": [
            "ada yang hobi masak!\n"
          ]
        }
      ]
    },
    {
      "cell_type": "code",
      "source": [
        "for hobby in students['Hobby']:\n",
        "  if(hobby==\"jalan-jalan\"):\n",
        "    print(\"ada yang hobi jalan jalan!\")\n",
        "  else:\n",
        "    print(\"tidak ada yang suka jalan jalan\")"
      ],
      "metadata": {
        "colab": {
          "base_uri": "https://localhost:8080/"
        },
        "id": "ZOIO_Nl1mS2K",
        "outputId": "26945f08-d0f7-493d-ab09-8f05c2019948"
      },
      "execution_count": null,
      "outputs": [
        {
          "output_type": "stream",
          "name": "stdout",
          "text": [
            "tidak ada yang suka jalan jalan\n",
            "tidak ada yang suka jalan jalan\n",
            "tidak ada yang suka jalan jalan\n"
          ]
        }
      ]
    },
    {
      "cell_type": "code",
      "source": [
        "students['Hobby'].append(1)\n",
        "students"
      ],
      "metadata": {
        "colab": {
          "base_uri": "https://localhost:8080/"
        },
        "id": "OflqKiJ7nRaA",
        "outputId": "ed20e3a4-b1c6-452f-c6e6-20097b645488"
      },
      "execution_count": null,
      "outputs": [
        {
          "output_type": "execute_result",
          "data": {
            "text/plain": [
              "{'Name': ['Bjorka', 'Rifki', 'Citra'],\n",
              " 'Age': ['18', '19', '20'],\n",
              " 'Hobby': ['Ngoding', 'Masak', 'Makan', 1]}"
            ]
          },
          "metadata": {},
          "execution_count": 50
        }
      ]
    },
    {
      "cell_type": "code",
      "source": [
        "a=20\n",
        "\n",
        "if(a>30):\n",
        "  print(\"Benar\")\n",
        "elif(a>40):\n",
        "  print(\"Benar juga\")\n",
        "elif(a==19):\n",
        "  print(\"Benar juga\")\n",
        "else:\n",
        "  print(\"Salah\")\n"
      ],
      "metadata": {
        "colab": {
          "base_uri": "https://localhost:8080/"
        },
        "id": "bz6HYK-em9Wy",
        "outputId": "7c19eed3-4ab2-47da-ce6d-e2b510349a71"
      },
      "execution_count": null,
      "outputs": [
        {
          "output_type": "stream",
          "name": "stdout",
          "text": [
            "Salah\n"
          ]
        }
      ]
    },
    {
      "cell_type": "markdown",
      "source": [
        "Function"
      ],
      "metadata": {
        "id": "2cfB-BICl2ru"
      }
    },
    {
      "cell_type": "code",
      "source": [
        "def printmyname():\n",
        "  print(\"My name is Wandy\")\n",
        "\n",
        "print(\"Hello world!\")"
      ],
      "metadata": {
        "colab": {
          "base_uri": "https://localhost:8080/"
        },
        "id": "pxFRjC_Cn35y",
        "outputId": "8190d708-cc7e-47d3-ff5c-f35e1c1472f8"
      },
      "execution_count": null,
      "outputs": [
        {
          "output_type": "stream",
          "name": "stdout",
          "text": [
            "Hello world!\n"
          ]
        }
      ]
    },
    {
      "cell_type": "code",
      "source": [
        "def printmyname():\n",
        "  print(\"My name is Wandy\")\n",
        "  print(\"HBU?\")\n",
        "\n",
        "printmyname()"
      ],
      "metadata": {
        "colab": {
          "base_uri": "https://localhost:8080/"
        },
        "id": "mJWFPlnil1mu",
        "outputId": "416432f5-900f-43d3-a309-875fab20ef3f"
      },
      "execution_count": null,
      "outputs": [
        {
          "output_type": "stream",
          "name": "stdout",
          "text": [
            "My name is Wandy\n",
            "HBU?\n"
          ]
        }
      ]
    },
    {
      "cell_type": "markdown",
      "source": [
        "Function with parameter"
      ],
      "metadata": {
        "id": "ICAOCO2GotgX"
      }
    },
    {
      "cell_type": "code",
      "source": [
        "def print_this(x):\n",
        "  print(x)\n",
        "\n",
        "print_this(\"Wandy\")"
      ],
      "metadata": {
        "colab": {
          "base_uri": "https://localhost:8080/"
        },
        "id": "kgsPfhoen90f",
        "outputId": "75e7526a-3035-4e6b-ae40-be8cf90b088f"
      },
      "execution_count": null,
      "outputs": [
        {
          "output_type": "stream",
          "name": "stdout",
          "text": [
            "Wandy\n"
          ]
        }
      ]
    },
    {
      "cell_type": "markdown",
      "source": [
        "Function with multiple parameters"
      ],
      "metadata": {
        "id": "RuF7keuppQUA"
      }
    },
    {
      "cell_type": "code",
      "source": [
        "def print_name_age(x,y):\n",
        "  print(\"Name: \",x)\n",
        "  print(\"Age: \",y)\n",
        "\n",
        "print_name_age(\"Wandy\", 12)"
      ],
      "metadata": {
        "colab": {
          "base_uri": "https://localhost:8080/"
        },
        "id": "7sCFwTLtpGKU",
        "outputId": "aeb98344-2efc-4658-9672-dd5e90bfb78c"
      },
      "execution_count": null,
      "outputs": [
        {
          "output_type": "stream",
          "name": "stdout",
          "text": [
            "Name:  Wandy\n",
            "Age:  12\n"
          ]
        }
      ]
    },
    {
      "cell_type": "code",
      "source": [
        "def print_name(age,name=\"Fernando\"):\n",
        "  print(age)\n",
        "  print(name)\n",
        "\n",
        "print_name(12)"
      ],
      "metadata": {
        "colab": {
          "base_uri": "https://localhost:8080/"
        },
        "id": "2RhcxIhlp3o5",
        "outputId": "ac83c262-1248-4707-c8df-ebf9a632d8cc"
      },
      "execution_count": null,
      "outputs": [
        {
          "output_type": "stream",
          "name": "stdout",
          "text": [
            "12\n",
            "Fernando\n"
          ]
        }
      ]
    },
    {
      "cell_type": "code",
      "source": [
        "print_name(12,\"Bjorka\")"
      ],
      "metadata": {
        "colab": {
          "base_uri": "https://localhost:8080/"
        },
        "id": "zv9TOAMZqh71",
        "outputId": "25d6852d-41ad-48cb-84ff-b3d11e4015ad"
      },
      "execution_count": null,
      "outputs": [
        {
          "output_type": "stream",
          "name": "stdout",
          "text": [
            "12\n",
            "Bjorka\n"
          ]
        }
      ]
    },
    {
      "cell_type": "code",
      "source": [
        "def penjumlahan(a,b):\n",
        "  print(a+b)\n",
        "\n",
        "penjumlahan(10,20)"
      ],
      "metadata": {
        "colab": {
          "base_uri": "https://localhost:8080/"
        },
        "id": "RZyudcNgqmAu",
        "outputId": "e77b0b1a-46f7-452c-dd6a-a3e1d9f677e7"
      },
      "execution_count": null,
      "outputs": [
        {
          "output_type": "stream",
          "name": "stdout",
          "text": [
            "30\n"
          ]
        }
      ]
    },
    {
      "cell_type": "code",
      "source": [
        "def penjumlahan(a,b):\n",
        "  a=int(a)\n",
        "  b=int(b)\n",
        "  print(a+b)\n",
        "\n",
        "penjumlahan(10,\"20\")"
      ],
      "metadata": {
        "colab": {
          "base_uri": "https://localhost:8080/"
        },
        "id": "-2h4Z6R8rB8z",
        "outputId": "bf602d87-00eb-400f-bf21-74ca4861af03"
      },
      "execution_count": null,
      "outputs": [
        {
          "output_type": "stream",
          "name": "stdout",
          "text": [
            "30\n"
          ]
        }
      ]
    },
    {
      "cell_type": "code",
      "source": [
        "def division(a,b):\n",
        "  result=float(a)/float(b) #return=mengembalikan nilai ke variable\n",
        "  return result\n",
        "\n",
        "result=division(10,\"2.1\")\n",
        "\n",
        "result"
      ],
      "metadata": {
        "colab": {
          "base_uri": "https://localhost:8080/"
        },
        "id": "pdXQLMFHr1uh",
        "outputId": "1c8c2ba3-3ec7-480a-daa8-ba7b37a17cc0"
      },
      "execution_count": null,
      "outputs": [
        {
          "output_type": "execute_result",
          "data": {
            "text/plain": [
              "4.761904761904762"
            ]
          },
          "metadata": {},
          "execution_count": 75
        }
      ]
    },
    {
      "cell_type": "code",
      "source": [
        "def division(a,b):\n",
        "  result=a/b #return=mengembalikan nilai ke variable\n",
        "  return result\n",
        "\n",
        "result=division(10,2)\n",
        "\n",
        "result"
      ],
      "metadata": {
        "colab": {
          "base_uri": "https://localhost:8080/"
        },
        "id": "LLUMeygirJNX",
        "outputId": "88c1417e-3535-43df-aff8-c1ccfb74ab83"
      },
      "execution_count": null,
      "outputs": [
        {
          "output_type": "execute_result",
          "data": {
            "text/plain": [
              "5.0"
            ]
          },
          "metadata": {},
          "execution_count": 74
        }
      ]
    },
    {
      "cell_type": "code",
      "source": [
        "def print_def():\n",
        "  print(\"def\")\n",
        "\n",
        "for i in range(5):\n",
        "  print(i)"
      ],
      "metadata": {
        "colab": {
          "base_uri": "https://localhost:8080/"
        },
        "id": "aZ_SLZahsCW-",
        "outputId": "1f4b592b-4452-48a8-9cef-87dbd2751c8a"
      },
      "execution_count": null,
      "outputs": [
        {
          "output_type": "stream",
          "name": "stdout",
          "text": [
            "0\n",
            "1\n",
            "2\n",
            "3\n",
            "4\n"
          ]
        }
      ]
    },
    {
      "cell_type": "code",
      "source": [
        "def hitung(r):\n",
        "  phi=22/7\n",
        "  return phi*r*r\n",
        "\n",
        "luas=hitung(4)\n",
        "print(luas)"
      ],
      "metadata": {
        "colab": {
          "base_uri": "https://localhost:8080/"
        },
        "id": "EcD3GQO0tBur",
        "outputId": "ec44270a-3ea7-45cf-f9e8-eade79ffa040"
      },
      "execution_count": null,
      "outputs": [
        {
          "output_type": "stream",
          "name": "stdout",
          "text": [
            "50.285714285714285\n"
          ]
        }
      ]
    },
    {
      "cell_type": "code",
      "source": [
        "def luas_lingkaran(r, pi = 3.14):\n",
        "    print(\"Luas lingkaran =\", pi*r*r)"
      ],
      "metadata": {
        "id": "GbDi8CZHtc78"
      },
      "execution_count": null,
      "outputs": []
    },
    {
      "cell_type": "code",
      "source": [
        "def circle_area(radius):\n",
        "\treturn 3.141592 * (radius**2)"
      ],
      "metadata": {
        "id": "mNijjzwmtfCY"
      },
      "execution_count": null,
      "outputs": []
    },
    {
      "cell_type": "code",
      "source": [
        "def hitung_luas_lingkaran(r):\n",
        "  result=3.14*r*r\n",
        "  return result\n",
        "\n",
        "hitung_luas_lingkaran(7)"
      ],
      "metadata": {
        "colab": {
          "base_uri": "https://localhost:8080/"
        },
        "id": "28wbTJsntwAk",
        "outputId": "4e6c2789-0b5e-4d11-bdd3-958ce197b380"
      },
      "execution_count": null,
      "outputs": [
        {
          "output_type": "execute_result",
          "data": {
            "text/plain": [
              "153.86"
            ]
          },
          "metadata": {},
          "execution_count": 85
        }
      ]
    },
    {
      "cell_type": "code",
      "source": [
        "all_radius=[12,20,40,50]\n",
        "\n",
        "for radius in all_radius:\n",
        "  res=hitung_luas_lingkaran(radius)\n",
        "  print(res)"
      ],
      "metadata": {
        "colab": {
          "base_uri": "https://localhost:8080/"
        },
        "id": "KCM6EeRcuC7c",
        "outputId": "294c68db-aab5-4ab9-d27a-0bec570b5273"
      },
      "execution_count": null,
      "outputs": [
        {
          "output_type": "stream",
          "name": "stdout",
          "text": [
            "452.15999999999997\n",
            "1256.0\n",
            "5024.0\n",
            "7850.0\n"
          ]
        }
      ]
    },
    {
      "cell_type": "code",
      "source": [
        "result_list=[]\n",
        "for radius in range(100):\n",
        "  res=hitung_luas_lingkaran(radius)\n",
        "  result_list.append(res)\n",
        "\n",
        "print(result_list)"
      ],
      "metadata": {
        "colab": {
          "base_uri": "https://localhost:8080/"
        },
        "id": "51SgCeqPuWlz",
        "outputId": "948e781b-a4b3-47ba-be2b-fe6d653704e4"
      },
      "execution_count": null,
      "outputs": [
        {
          "output_type": "stream",
          "name": "stdout",
          "text": [
            "[0.0, 3.14, 12.56, 28.259999999999998, 50.24, 78.5, 113.03999999999999, 153.86, 200.96, 254.34, 314.0, 379.94, 452.15999999999997, 530.66, 615.44, 706.5, 803.84, 907.46, 1017.36, 1133.54, 1256.0, 1384.74, 1519.76, 1661.06, 1808.6399999999999, 1962.5, 2122.64, 2289.06, 2461.76, 2640.7400000000002, 2826.0, 3017.54, 3215.36, 3419.46, 3629.84, 3846.5, 4069.44, 4298.66, 4534.16, 4775.9400000000005, 5024.0, 5278.34, 5538.96, 5805.860000000001, 6079.04, 6358.500000000001, 6644.24, 6936.26, 7234.5599999999995, 7539.14, 7850.0, 8167.14, 8490.56, 8820.26, 9156.24, 9498.500000000002, 9847.04, 10201.86, 10562.960000000001, 10930.340000000002, 11304.0, 11683.94, 12070.16, 12462.660000000002, 12861.44, 13266.5, 13677.84, 14095.46, 14519.36, 14949.539999999999, 15386.0, 15828.74, 16277.76, 16733.06, 17194.64, 17662.5, 18136.64, 18617.06, 19103.760000000002, 19596.74, 20096.0, 20601.54, 21113.36, 21631.46, 22155.84, 22686.500000000004, 23223.440000000002, 23766.66, 24316.16, 24871.940000000002, 25434.000000000004, 26002.34, 26576.96, 27157.860000000004, 27745.04, 28338.5, 28938.239999999998, 29544.26, 30156.56, 30775.140000000003]\n"
          ]
        }
      ]
    },
    {
      "cell_type": "code",
      "source": [
        "def calculate(a,b):\n",
        "  addition=(a+b)\n",
        "  multiplication=(a*b)\n",
        "  find_max=max(a,b)\n",
        "  return addition, multiplication, find_max #dikasih return untuk pengganti print\n",
        "\n",
        "calculate(2,6)"
      ],
      "metadata": {
        "colab": {
          "base_uri": "https://localhost:8080/"
        },
        "id": "XsDwprT3ur4O",
        "outputId": "b56e4315-6c36-469f-d046-4b6309d8b36b"
      },
      "execution_count": null,
      "outputs": [
        {
          "output_type": "execute_result",
          "data": {
            "text/plain": [
              "(8, 12, 6)"
            ]
          },
          "metadata": {},
          "execution_count": 96
        }
      ]
    },
    {
      "cell_type": "code",
      "source": [
        "def calculate(a,b):\n",
        "  addition=(a+b)\n",
        "  multiplication=(a*b)\n",
        "  find_max=max(a,b)\n",
        "\n",
        "  print(\"Addition: \",addition)\n",
        "  print(\"Multiplication: \",multiplication)\n",
        "  print(\"Maximun: \",find_max)\n",
        "\n",
        "calculate(2,6)"
      ],
      "metadata": {
        "colab": {
          "base_uri": "https://localhost:8080/"
        },
        "id": "yo8MmWI0v8l9",
        "outputId": "dc670da4-8a1b-4ee8-cac8-d6ad4c4b5bed"
      },
      "execution_count": null,
      "outputs": [
        {
          "output_type": "stream",
          "name": "stdout",
          "text": [
            "Addition:  8\n",
            "Multiplication:  12\n",
            "Maximun:  6\n"
          ]
        }
      ]
    }
  ]
}