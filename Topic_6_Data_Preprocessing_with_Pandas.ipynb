{
  "cells": [
    {
      "cell_type": "markdown",
      "metadata": {
        "id": "view-in-github",
        "colab_type": "text"
      },
      "source": [
        "<a href=\"https://colab.research.google.com/github/Syarafina-Dewi/data-analytics/blob/main/Topic_6_Data_Preprocessing_with_Pandas.ipynb\" target=\"_parent\"><img src=\"https://colab.research.google.com/assets/colab-badge.svg\" alt=\"Open In Colab\"/></a>"
      ]
    },
    {
      "cell_type": "markdown",
      "id": "65e8a51c-b67e-4345-8d9a-c0e5b1f02580",
      "metadata": {
        "id": "65e8a51c-b67e-4345-8d9a-c0e5b1f02580"
      },
      "source": [
        "## Topic 6 - Python for Data Analysis : Data Preprocessing with Pandas\n"
      ]
    },
    {
      "cell_type": "markdown",
      "id": "64b41851-3396-461b-a61c-c2b6ab75fbb4",
      "metadata": {
        "id": "64b41851-3396-461b-a61c-c2b6ab75fbb4"
      },
      "source": [
        "# Join\n",
        "\n",
        "Using two of the dataframes below, answer the questions :"
      ]
    },
    {
      "cell_type": "code",
      "execution_count": null,
      "id": "783fc86d-2508-4d40-82f9-3178286e26a3",
      "metadata": {
        "id": "783fc86d-2508-4d40-82f9-3178286e26a3"
      },
      "outputs": [],
      "source": [
        "df1 = pd.DataFrame({'key': ['K0', 'K1', 'K2', 'K3', 'K4', 'K5'],\n",
        "                   'A': ['A0', 'A1', 'A2', 'A3', 'A4', 'A5']})\n",
        "                   \n",
        "df2=pd.DataFrame({'key': ['K0', 'K1', 'K2'],\n",
        "                      'B': ['B0', 'B1', 'B2']})"
      ]
    },
    {
      "cell_type": "code",
      "execution_count": null,
      "id": "7a5b67b5-dfc5-4195-bce5-8b90a6c32a2b",
      "metadata": {
        "id": "7a5b67b5-dfc5-4195-bce5-8b90a6c32a2b"
      },
      "outputs": [],
      "source": [
        "#import libraries here\n",
        "import pandas as pd"
      ]
    },
    {
      "cell_type": "markdown",
      "id": "6b0105b8-40ec-47d5-8099-dc778451cbb2",
      "metadata": {
        "id": "6b0105b8-40ec-47d5-8099-dc778451cbb2"
      },
      "source": [
        "### Create a dataframe (df3) which consists both dataframe inner-joined by column \"Key\" (5 pts)"
      ]
    },
    {
      "cell_type": "code",
      "execution_count": null,
      "id": "eb6a1303-f998-41db-b136-d11ad78ae7bf",
      "metadata": {
        "id": "eb6a1303-f998-41db-b136-d11ad78ae7bf",
        "outputId": "c2875006-a27c-4888-d1ee-5661eca4e5ad"
      },
      "outputs": [
        {
          "data": {
            "text/html": [
              "<div>\n",
              "<style scoped>\n",
              "    .dataframe tbody tr th:only-of-type {\n",
              "        vertical-align: middle;\n",
              "    }\n",
              "\n",
              "    .dataframe tbody tr th {\n",
              "        vertical-align: top;\n",
              "    }\n",
              "\n",
              "    .dataframe thead th {\n",
              "        text-align: right;\n",
              "    }\n",
              "</style>\n",
              "<table border=\"1\" class=\"dataframe\">\n",
              "  <thead>\n",
              "    <tr style=\"text-align: right;\">\n",
              "      <th></th>\n",
              "      <th>key</th>\n",
              "      <th>A</th>\n",
              "      <th>B</th>\n",
              "    </tr>\n",
              "  </thead>\n",
              "  <tbody>\n",
              "    <tr>\n",
              "      <th>0</th>\n",
              "      <td>K0</td>\n",
              "      <td>A0</td>\n",
              "      <td>B0</td>\n",
              "    </tr>\n",
              "    <tr>\n",
              "      <th>1</th>\n",
              "      <td>K1</td>\n",
              "      <td>A1</td>\n",
              "      <td>B1</td>\n",
              "    </tr>\n",
              "    <tr>\n",
              "      <th>2</th>\n",
              "      <td>K2</td>\n",
              "      <td>A2</td>\n",
              "      <td>B2</td>\n",
              "    </tr>\n",
              "  </tbody>\n",
              "</table>\n",
              "</div>"
            ],
            "text/plain": [
              "  key   A   B\n",
              "0  K0  A0  B0\n",
              "1  K1  A1  B1\n",
              "2  K2  A2  B2"
            ]
          },
          "execution_count": 4,
          "metadata": {},
          "output_type": "execute_result"
        }
      ],
      "source": [
        "#code goes here\n",
        "df3 = pd.merge(df1, df2, on='key', how='inner')\n",
        "df3"
      ]
    },
    {
      "cell_type": "markdown",
      "id": "e745f272-1841-4b85-8ed0-767a7394a9c9",
      "metadata": {
        "id": "e745f272-1841-4b85-8ed0-767a7394a9c9"
      },
      "source": [
        "### Create a dataframe (df4) which consists of the result of df1 and df2 left-joined by column \"Key\" (10pts)"
      ]
    },
    {
      "cell_type": "code",
      "execution_count": null,
      "id": "dfaccae1-d2c3-48aa-a455-977c89b5a032",
      "metadata": {
        "id": "dfaccae1-d2c3-48aa-a455-977c89b5a032",
        "outputId": "ed55eeb9-f528-4424-da84-11b593456dcb"
      },
      "outputs": [
        {
          "data": {
            "text/html": [
              "<div>\n",
              "<style scoped>\n",
              "    .dataframe tbody tr th:only-of-type {\n",
              "        vertical-align: middle;\n",
              "    }\n",
              "\n",
              "    .dataframe tbody tr th {\n",
              "        vertical-align: top;\n",
              "    }\n",
              "\n",
              "    .dataframe thead th {\n",
              "        text-align: right;\n",
              "    }\n",
              "</style>\n",
              "<table border=\"1\" class=\"dataframe\">\n",
              "  <thead>\n",
              "    <tr style=\"text-align: right;\">\n",
              "      <th></th>\n",
              "      <th>key</th>\n",
              "      <th>A</th>\n",
              "      <th>B</th>\n",
              "    </tr>\n",
              "  </thead>\n",
              "  <tbody>\n",
              "    <tr>\n",
              "      <th>0</th>\n",
              "      <td>K0</td>\n",
              "      <td>A0</td>\n",
              "      <td>B0</td>\n",
              "    </tr>\n",
              "    <tr>\n",
              "      <th>1</th>\n",
              "      <td>K1</td>\n",
              "      <td>A1</td>\n",
              "      <td>B1</td>\n",
              "    </tr>\n",
              "    <tr>\n",
              "      <th>2</th>\n",
              "      <td>K2</td>\n",
              "      <td>A2</td>\n",
              "      <td>B2</td>\n",
              "    </tr>\n",
              "    <tr>\n",
              "      <th>3</th>\n",
              "      <td>K3</td>\n",
              "      <td>A3</td>\n",
              "      <td>NaN</td>\n",
              "    </tr>\n",
              "    <tr>\n",
              "      <th>4</th>\n",
              "      <td>K4</td>\n",
              "      <td>A4</td>\n",
              "      <td>NaN</td>\n",
              "    </tr>\n",
              "    <tr>\n",
              "      <th>5</th>\n",
              "      <td>K5</td>\n",
              "      <td>A5</td>\n",
              "      <td>NaN</td>\n",
              "    </tr>\n",
              "  </tbody>\n",
              "</table>\n",
              "</div>"
            ],
            "text/plain": [
              "  key   A    B\n",
              "0  K0  A0   B0\n",
              "1  K1  A1   B1\n",
              "2  K2  A2   B2\n",
              "3  K3  A3  NaN\n",
              "4  K4  A4  NaN\n",
              "5  K5  A5  NaN"
            ]
          },
          "execution_count": 5,
          "metadata": {},
          "output_type": "execute_result"
        }
      ],
      "source": [
        "#code goes here\n",
        "df4 = pd.merge(df1, df2, on='key', how='left')\n",
        "df4"
      ]
    },
    {
      "cell_type": "markdown",
      "id": "8de93dbb-8281-41b7-a33c-5677f57b3f91",
      "metadata": {
        "id": "8de93dbb-8281-41b7-a33c-5677f57b3f91"
      },
      "source": [
        "#### 1. Replace key \"K2\" into \"K3\" on df1\n",
        "#### 2. Left join it with df2 \n",
        "(15pts)"
      ]
    },
    {
      "cell_type": "code",
      "execution_count": null,
      "id": "58b90686-9275-4c32-8553-4e14ded15183",
      "metadata": {
        "id": "58b90686-9275-4c32-8553-4e14ded15183",
        "outputId": "9ebd7cb8-1f7b-4f4e-d653-9f97fbe86a5b"
      },
      "outputs": [
        {
          "data": {
            "text/html": [
              "<div>\n",
              "<style scoped>\n",
              "    .dataframe tbody tr th:only-of-type {\n",
              "        vertical-align: middle;\n",
              "    }\n",
              "\n",
              "    .dataframe tbody tr th {\n",
              "        vertical-align: top;\n",
              "    }\n",
              "\n",
              "    .dataframe thead th {\n",
              "        text-align: right;\n",
              "    }\n",
              "</style>\n",
              "<table border=\"1\" class=\"dataframe\">\n",
              "  <thead>\n",
              "    <tr style=\"text-align: right;\">\n",
              "      <th></th>\n",
              "      <th>key</th>\n",
              "      <th>A</th>\n",
              "      <th>B</th>\n",
              "    </tr>\n",
              "  </thead>\n",
              "  <tbody>\n",
              "    <tr>\n",
              "      <th>0</th>\n",
              "      <td>K0</td>\n",
              "      <td>A0</td>\n",
              "      <td>B0</td>\n",
              "    </tr>\n",
              "    <tr>\n",
              "      <th>1</th>\n",
              "      <td>K1</td>\n",
              "      <td>A1</td>\n",
              "      <td>B1</td>\n",
              "    </tr>\n",
              "    <tr>\n",
              "      <th>2</th>\n",
              "      <td>K3</td>\n",
              "      <td>A2</td>\n",
              "      <td>NaN</td>\n",
              "    </tr>\n",
              "    <tr>\n",
              "      <th>3</th>\n",
              "      <td>K3</td>\n",
              "      <td>A3</td>\n",
              "      <td>NaN</td>\n",
              "    </tr>\n",
              "    <tr>\n",
              "      <th>4</th>\n",
              "      <td>K4</td>\n",
              "      <td>A4</td>\n",
              "      <td>NaN</td>\n",
              "    </tr>\n",
              "    <tr>\n",
              "      <th>5</th>\n",
              "      <td>K5</td>\n",
              "      <td>A5</td>\n",
              "      <td>NaN</td>\n",
              "    </tr>\n",
              "  </tbody>\n",
              "</table>\n",
              "</div>"
            ],
            "text/plain": [
              "  key   A    B\n",
              "0  K0  A0   B0\n",
              "1  K1  A1   B1\n",
              "2  K3  A2  NaN\n",
              "3  K3  A3  NaN\n",
              "4  K4  A4  NaN\n",
              "5  K5  A5  NaN"
            ]
          },
          "execution_count": 7,
          "metadata": {},
          "output_type": "execute_result"
        }
      ],
      "source": [
        "#code goes here\n",
        "df1_update = df1.replace({'key' : 'K2'}, {'key' : 'K3'})\n",
        "df1_update2 = pd.merge(df1_update,df2,how=\"left\")\n",
        "df1_update2"
      ]
    },
    {
      "cell_type": "markdown",
      "id": "8fee30c8-b38b-46fa-8b97-3f44060aba8d",
      "metadata": {
        "id": "8fee30c8-b38b-46fa-8b97-3f44060aba8d"
      },
      "source": [
        "# Dataframe Processing\n"
      ]
    },
    {
      "cell_type": "markdown",
      "id": "ad37cd47-c8b2-4c62-af8d-8123786836a3",
      "metadata": {
        "id": "ad37cd47-c8b2-4c62-af8d-8123786836a3"
      },
      "source": [
        "Create a dictionary and convert it to a dataframe called \"Customer_df\" (15 pts)\n",
        "\n",
        "\n",
        "name=['Anna','Jason','Cindy']\n",
        "\n",
        "age=['22','23','21']\n",
        "\n",
        "gender=['F','M','F']\n",
        "\n",
        "\n"
      ]
    },
    {
      "cell_type": "code",
      "execution_count": null,
      "id": "7a32ace6-0362-468f-b381-a45d31006b28",
      "metadata": {
        "id": "7a32ace6-0362-468f-b381-a45d31006b28",
        "outputId": "f463427b-4cb9-46d7-d9ad-37f0aa9fe855"
      },
      "outputs": [
        {
          "data": {
            "text/html": [
              "<div>\n",
              "<style scoped>\n",
              "    .dataframe tbody tr th:only-of-type {\n",
              "        vertical-align: middle;\n",
              "    }\n",
              "\n",
              "    .dataframe tbody tr th {\n",
              "        vertical-align: top;\n",
              "    }\n",
              "\n",
              "    .dataframe thead th {\n",
              "        text-align: right;\n",
              "    }\n",
              "</style>\n",
              "<table border=\"1\" class=\"dataframe\">\n",
              "  <thead>\n",
              "    <tr style=\"text-align: right;\">\n",
              "      <th></th>\n",
              "      <th>name</th>\n",
              "      <th>age</th>\n",
              "      <th>gender</th>\n",
              "    </tr>\n",
              "  </thead>\n",
              "  <tbody>\n",
              "    <tr>\n",
              "      <th>0</th>\n",
              "      <td>Anna</td>\n",
              "      <td>22</td>\n",
              "      <td>F</td>\n",
              "    </tr>\n",
              "    <tr>\n",
              "      <th>1</th>\n",
              "      <td>Jason</td>\n",
              "      <td>23</td>\n",
              "      <td>M</td>\n",
              "    </tr>\n",
              "    <tr>\n",
              "      <th>2</th>\n",
              "      <td>Cindy</td>\n",
              "      <td>21</td>\n",
              "      <td>F</td>\n",
              "    </tr>\n",
              "  </tbody>\n",
              "</table>\n",
              "</div>"
            ],
            "text/plain": [
              "    name  age gender\n",
              "0   Anna   22      F\n",
              "1  Jason   23      M\n",
              "2  Cindy   21      F"
            ]
          },
          "execution_count": 8,
          "metadata": {},
          "output_type": "execute_result"
        }
      ],
      "source": [
        "#code goes here\n",
        "Customer_df={\n",
        "    \"name\":['Anna','Jason','Cindy'],\n",
        "    \"age\":[22, 23, 21],\n",
        "    \"gender\":['F','M','F']\n",
        "}\n",
        "\n",
        "df1=pd.DataFrame(Customer_df)\n",
        "df1"
      ]
    },
    {
      "cell_type": "markdown",
      "id": "4b110409-c42c-497f-8922-873c914fc7e6",
      "metadata": {
        "id": "4b110409-c42c-497f-8922-873c914fc7e6"
      },
      "source": [
        "### Delete the \"age\" column (5 pts)"
      ]
    },
    {
      "cell_type": "code",
      "execution_count": null,
      "id": "761d2eb4-14ed-42d6-b6cc-a4f097e64681",
      "metadata": {
        "id": "761d2eb4-14ed-42d6-b6cc-a4f097e64681",
        "outputId": "69c93abe-71b1-4d36-d79a-5b24736cc9b5"
      },
      "outputs": [
        {
          "data": {
            "text/html": [
              "<div>\n",
              "<style scoped>\n",
              "    .dataframe tbody tr th:only-of-type {\n",
              "        vertical-align: middle;\n",
              "    }\n",
              "\n",
              "    .dataframe tbody tr th {\n",
              "        vertical-align: top;\n",
              "    }\n",
              "\n",
              "    .dataframe thead th {\n",
              "        text-align: right;\n",
              "    }\n",
              "</style>\n",
              "<table border=\"1\" class=\"dataframe\">\n",
              "  <thead>\n",
              "    <tr style=\"text-align: right;\">\n",
              "      <th></th>\n",
              "      <th>name</th>\n",
              "      <th>gender</th>\n",
              "    </tr>\n",
              "  </thead>\n",
              "  <tbody>\n",
              "    <tr>\n",
              "      <th>0</th>\n",
              "      <td>Anna</td>\n",
              "      <td>F</td>\n",
              "    </tr>\n",
              "    <tr>\n",
              "      <th>1</th>\n",
              "      <td>Jason</td>\n",
              "      <td>M</td>\n",
              "    </tr>\n",
              "    <tr>\n",
              "      <th>2</th>\n",
              "      <td>Cindy</td>\n",
              "      <td>F</td>\n",
              "    </tr>\n",
              "  </tbody>\n",
              "</table>\n",
              "</div>"
            ],
            "text/plain": [
              "    name gender\n",
              "0   Anna      F\n",
              "1  Jason      M\n",
              "2  Cindy      F"
            ]
          },
          "execution_count": 9,
          "metadata": {},
          "output_type": "execute_result"
        }
      ],
      "source": [
        "#code goes here\n",
        "del df1[\"age\"]\n",
        "df1"
      ]
    },
    {
      "cell_type": "markdown",
      "id": "16a3002f-19e6-456b-8776-d82097d7f110",
      "metadata": {
        "id": "16a3002f-19e6-456b-8776-d82097d7f110"
      },
      "source": [
        "### Rename the \"name\" column into \"first name\" (10 pts)"
      ]
    },
    {
      "cell_type": "code",
      "execution_count": null,
      "id": "320d14c7-a073-417b-9317-0ebd88d2223f",
      "metadata": {
        "id": "320d14c7-a073-417b-9317-0ebd88d2223f",
        "outputId": "f761d1e9-e136-434a-93b8-dc81d9d74394"
      },
      "outputs": [
        {
          "data": {
            "text/html": [
              "<div>\n",
              "<style scoped>\n",
              "    .dataframe tbody tr th:only-of-type {\n",
              "        vertical-align: middle;\n",
              "    }\n",
              "\n",
              "    .dataframe tbody tr th {\n",
              "        vertical-align: top;\n",
              "    }\n",
              "\n",
              "    .dataframe thead th {\n",
              "        text-align: right;\n",
              "    }\n",
              "</style>\n",
              "<table border=\"1\" class=\"dataframe\">\n",
              "  <thead>\n",
              "    <tr style=\"text-align: right;\">\n",
              "      <th></th>\n",
              "      <th>first name</th>\n",
              "      <th>gender</th>\n",
              "    </tr>\n",
              "  </thead>\n",
              "  <tbody>\n",
              "    <tr>\n",
              "      <th>0</th>\n",
              "      <td>Anna</td>\n",
              "      <td>F</td>\n",
              "    </tr>\n",
              "    <tr>\n",
              "      <th>1</th>\n",
              "      <td>Jason</td>\n",
              "      <td>M</td>\n",
              "    </tr>\n",
              "    <tr>\n",
              "      <th>2</th>\n",
              "      <td>Cindy</td>\n",
              "      <td>F</td>\n",
              "    </tr>\n",
              "  </tbody>\n",
              "</table>\n",
              "</div>"
            ],
            "text/plain": [
              "  first name gender\n",
              "0       Anna      F\n",
              "1      Jason      M\n",
              "2      Cindy      F"
            ]
          },
          "execution_count": 11,
          "metadata": {},
          "output_type": "execute_result"
        }
      ],
      "source": [
        "#code goes here\n",
        "renamed_columns={'name':'first name'}\n",
        "df1=df1.rename(columns=renamed_columns)\n",
        "df1"
      ]
    },
    {
      "cell_type": "markdown",
      "id": "1346118a-9b7e-44c3-8dad-6cb5cdbb0333",
      "metadata": {
        "id": "1346118a-9b7e-44c3-8dad-6cb5cdbb0333"
      },
      "source": [
        "### Sort the dataframe by age, descending (10 pts)"
      ]
    },
    {
      "cell_type": "code",
      "execution_count": null,
      "id": "7c4be5dd-3f63-464c-bbc2-6b8c29615568",
      "metadata": {
        "id": "7c4be5dd-3f63-464c-bbc2-6b8c29615568",
        "outputId": "7569dd91-57dc-4198-8da2-c753ed59b503"
      },
      "outputs": [
        {
          "data": {
            "text/html": [
              "<div>\n",
              "<style scoped>\n",
              "    .dataframe tbody tr th:only-of-type {\n",
              "        vertical-align: middle;\n",
              "    }\n",
              "\n",
              "    .dataframe tbody tr th {\n",
              "        vertical-align: top;\n",
              "    }\n",
              "\n",
              "    .dataframe thead th {\n",
              "        text-align: right;\n",
              "    }\n",
              "</style>\n",
              "<table border=\"1\" class=\"dataframe\">\n",
              "  <thead>\n",
              "    <tr style=\"text-align: right;\">\n",
              "      <th></th>\n",
              "      <th>name</th>\n",
              "      <th>age</th>\n",
              "      <th>gender</th>\n",
              "    </tr>\n",
              "  </thead>\n",
              "  <tbody>\n",
              "    <tr>\n",
              "      <th>1</th>\n",
              "      <td>Jason</td>\n",
              "      <td>23</td>\n",
              "      <td>M</td>\n",
              "    </tr>\n",
              "    <tr>\n",
              "      <th>0</th>\n",
              "      <td>Anna</td>\n",
              "      <td>22</td>\n",
              "      <td>F</td>\n",
              "    </tr>\n",
              "    <tr>\n",
              "      <th>2</th>\n",
              "      <td>Cindy</td>\n",
              "      <td>21</td>\n",
              "      <td>F</td>\n",
              "    </tr>\n",
              "  </tbody>\n",
              "</table>\n",
              "</div>"
            ],
            "text/plain": [
              "    name  age gender\n",
              "1  Jason   23      M\n",
              "0   Anna   22      F\n",
              "2  Cindy   21      F"
            ]
          },
          "execution_count": 12,
          "metadata": {},
          "output_type": "execute_result"
        }
      ],
      "source": [
        "#code goes here\n",
        "df2=pd.DataFrame(Customer_df)\n",
        "df2\n",
        "df2.sort_values('age',ascending=False)"
      ]
    },
    {
      "cell_type": "markdown",
      "id": "64a09a64-f167-4163-9240-7de099d9c727",
      "metadata": {
        "id": "64a09a64-f167-4163-9240-7de099d9c727"
      },
      "source": [
        "## Run the code below for data source and answer the following questions"
      ]
    },
    {
      "cell_type": "code",
      "execution_count": null,
      "id": "e286adfa-6c32-461b-bc82-33f370018033",
      "metadata": {
        "id": "e286adfa-6c32-461b-bc82-33f370018033"
      },
      "outputs": [],
      "source": [
        "import pandas as pd\n",
        "df=pd.read_csv('http://bit.ly/kaggletrain')"
      ]
    },
    {
      "cell_type": "markdown",
      "id": "7a8e7165-96df-49e5-bc56-2113d6c587b9",
      "metadata": {
        "id": "7a8e7165-96df-49e5-bc56-2113d6c587b9"
      },
      "source": [
        "### Show top 10 rows of the dataset (5 pts)"
      ]
    },
    {
      "cell_type": "code",
      "execution_count": null,
      "id": "6b0412c4-00e4-494a-9412-3b5c534552e7",
      "metadata": {
        "id": "6b0412c4-00e4-494a-9412-3b5c534552e7",
        "outputId": "ab8188f9-f8a9-4b9f-a0f2-3679db82b5a0"
      },
      "outputs": [
        {
          "data": {
            "text/html": [
              "<div>\n",
              "<style scoped>\n",
              "    .dataframe tbody tr th:only-of-type {\n",
              "        vertical-align: middle;\n",
              "    }\n",
              "\n",
              "    .dataframe tbody tr th {\n",
              "        vertical-align: top;\n",
              "    }\n",
              "\n",
              "    .dataframe thead th {\n",
              "        text-align: right;\n",
              "    }\n",
              "</style>\n",
              "<table border=\"1\" class=\"dataframe\">\n",
              "  <thead>\n",
              "    <tr style=\"text-align: right;\">\n",
              "      <th></th>\n",
              "      <th>PassengerId</th>\n",
              "      <th>Survived</th>\n",
              "      <th>Pclass</th>\n",
              "      <th>Name</th>\n",
              "      <th>Sex</th>\n",
              "      <th>Age</th>\n",
              "      <th>SibSp</th>\n",
              "      <th>Parch</th>\n",
              "      <th>Ticket</th>\n",
              "      <th>Fare</th>\n",
              "      <th>Cabin</th>\n",
              "      <th>Embarked</th>\n",
              "    </tr>\n",
              "  </thead>\n",
              "  <tbody>\n",
              "    <tr>\n",
              "      <th>0</th>\n",
              "      <td>1</td>\n",
              "      <td>0</td>\n",
              "      <td>3</td>\n",
              "      <td>Braund, Mr. Owen Harris</td>\n",
              "      <td>male</td>\n",
              "      <td>22.0</td>\n",
              "      <td>1</td>\n",
              "      <td>0</td>\n",
              "      <td>A/5 21171</td>\n",
              "      <td>7.2500</td>\n",
              "      <td>NaN</td>\n",
              "      <td>S</td>\n",
              "    </tr>\n",
              "    <tr>\n",
              "      <th>1</th>\n",
              "      <td>2</td>\n",
              "      <td>1</td>\n",
              "      <td>1</td>\n",
              "      <td>Cumings, Mrs. John Bradley (Florence Briggs Th...</td>\n",
              "      <td>female</td>\n",
              "      <td>38.0</td>\n",
              "      <td>1</td>\n",
              "      <td>0</td>\n",
              "      <td>PC 17599</td>\n",
              "      <td>71.2833</td>\n",
              "      <td>C85</td>\n",
              "      <td>C</td>\n",
              "    </tr>\n",
              "    <tr>\n",
              "      <th>2</th>\n",
              "      <td>3</td>\n",
              "      <td>1</td>\n",
              "      <td>3</td>\n",
              "      <td>Heikkinen, Miss. Laina</td>\n",
              "      <td>female</td>\n",
              "      <td>26.0</td>\n",
              "      <td>0</td>\n",
              "      <td>0</td>\n",
              "      <td>STON/O2. 3101282</td>\n",
              "      <td>7.9250</td>\n",
              "      <td>NaN</td>\n",
              "      <td>S</td>\n",
              "    </tr>\n",
              "    <tr>\n",
              "      <th>3</th>\n",
              "      <td>4</td>\n",
              "      <td>1</td>\n",
              "      <td>1</td>\n",
              "      <td>Futrelle, Mrs. Jacques Heath (Lily May Peel)</td>\n",
              "      <td>female</td>\n",
              "      <td>35.0</td>\n",
              "      <td>1</td>\n",
              "      <td>0</td>\n",
              "      <td>113803</td>\n",
              "      <td>53.1000</td>\n",
              "      <td>C123</td>\n",
              "      <td>S</td>\n",
              "    </tr>\n",
              "    <tr>\n",
              "      <th>4</th>\n",
              "      <td>5</td>\n",
              "      <td>0</td>\n",
              "      <td>3</td>\n",
              "      <td>Allen, Mr. William Henry</td>\n",
              "      <td>male</td>\n",
              "      <td>35.0</td>\n",
              "      <td>0</td>\n",
              "      <td>0</td>\n",
              "      <td>373450</td>\n",
              "      <td>8.0500</td>\n",
              "      <td>NaN</td>\n",
              "      <td>S</td>\n",
              "    </tr>\n",
              "    <tr>\n",
              "      <th>5</th>\n",
              "      <td>6</td>\n",
              "      <td>0</td>\n",
              "      <td>3</td>\n",
              "      <td>Moran, Mr. James</td>\n",
              "      <td>male</td>\n",
              "      <td>NaN</td>\n",
              "      <td>0</td>\n",
              "      <td>0</td>\n",
              "      <td>330877</td>\n",
              "      <td>8.4583</td>\n",
              "      <td>NaN</td>\n",
              "      <td>Q</td>\n",
              "    </tr>\n",
              "    <tr>\n",
              "      <th>6</th>\n",
              "      <td>7</td>\n",
              "      <td>0</td>\n",
              "      <td>1</td>\n",
              "      <td>McCarthy, Mr. Timothy J</td>\n",
              "      <td>male</td>\n",
              "      <td>54.0</td>\n",
              "      <td>0</td>\n",
              "      <td>0</td>\n",
              "      <td>17463</td>\n",
              "      <td>51.8625</td>\n",
              "      <td>E46</td>\n",
              "      <td>S</td>\n",
              "    </tr>\n",
              "    <tr>\n",
              "      <th>7</th>\n",
              "      <td>8</td>\n",
              "      <td>0</td>\n",
              "      <td>3</td>\n",
              "      <td>Palsson, Master. Gosta Leonard</td>\n",
              "      <td>male</td>\n",
              "      <td>2.0</td>\n",
              "      <td>3</td>\n",
              "      <td>1</td>\n",
              "      <td>349909</td>\n",
              "      <td>21.0750</td>\n",
              "      <td>NaN</td>\n",
              "      <td>S</td>\n",
              "    </tr>\n",
              "    <tr>\n",
              "      <th>8</th>\n",
              "      <td>9</td>\n",
              "      <td>1</td>\n",
              "      <td>3</td>\n",
              "      <td>Johnson, Mrs. Oscar W (Elisabeth Vilhelmina Berg)</td>\n",
              "      <td>female</td>\n",
              "      <td>27.0</td>\n",
              "      <td>0</td>\n",
              "      <td>2</td>\n",
              "      <td>347742</td>\n",
              "      <td>11.1333</td>\n",
              "      <td>NaN</td>\n",
              "      <td>S</td>\n",
              "    </tr>\n",
              "    <tr>\n",
              "      <th>9</th>\n",
              "      <td>10</td>\n",
              "      <td>1</td>\n",
              "      <td>2</td>\n",
              "      <td>Nasser, Mrs. Nicholas (Adele Achem)</td>\n",
              "      <td>female</td>\n",
              "      <td>14.0</td>\n",
              "      <td>1</td>\n",
              "      <td>0</td>\n",
              "      <td>237736</td>\n",
              "      <td>30.0708</td>\n",
              "      <td>NaN</td>\n",
              "      <td>C</td>\n",
              "    </tr>\n",
              "  </tbody>\n",
              "</table>\n",
              "</div>"
            ],
            "text/plain": [
              "   PassengerId  Survived  Pclass  \\\n",
              "0            1         0       3   \n",
              "1            2         1       1   \n",
              "2            3         1       3   \n",
              "3            4         1       1   \n",
              "4            5         0       3   \n",
              "5            6         0       3   \n",
              "6            7         0       1   \n",
              "7            8         0       3   \n",
              "8            9         1       3   \n",
              "9           10         1       2   \n",
              "\n",
              "                                                Name     Sex   Age  SibSp  \\\n",
              "0                            Braund, Mr. Owen Harris    male  22.0      1   \n",
              "1  Cumings, Mrs. John Bradley (Florence Briggs Th...  female  38.0      1   \n",
              "2                             Heikkinen, Miss. Laina  female  26.0      0   \n",
              "3       Futrelle, Mrs. Jacques Heath (Lily May Peel)  female  35.0      1   \n",
              "4                           Allen, Mr. William Henry    male  35.0      0   \n",
              "5                                   Moran, Mr. James    male   NaN      0   \n",
              "6                            McCarthy, Mr. Timothy J    male  54.0      0   \n",
              "7                     Palsson, Master. Gosta Leonard    male   2.0      3   \n",
              "8  Johnson, Mrs. Oscar W (Elisabeth Vilhelmina Berg)  female  27.0      0   \n",
              "9                Nasser, Mrs. Nicholas (Adele Achem)  female  14.0      1   \n",
              "\n",
              "   Parch            Ticket     Fare Cabin Embarked  \n",
              "0      0         A/5 21171   7.2500   NaN        S  \n",
              "1      0          PC 17599  71.2833   C85        C  \n",
              "2      0  STON/O2. 3101282   7.9250   NaN        S  \n",
              "3      0            113803  53.1000  C123        S  \n",
              "4      0            373450   8.0500   NaN        S  \n",
              "5      0            330877   8.4583   NaN        Q  \n",
              "6      0             17463  51.8625   E46        S  \n",
              "7      1            349909  21.0750   NaN        S  \n",
              "8      2            347742  11.1333   NaN        S  \n",
              "9      0            237736  30.0708   NaN        C  "
            ]
          },
          "execution_count": 14,
          "metadata": {},
          "output_type": "execute_result"
        }
      ],
      "source": [
        "#code goes here\n",
        "df_top=df.head(10)\n",
        "df_top"
      ]
    },
    {
      "cell_type": "markdown",
      "id": "738432e3-c2cf-42a6-b342-59d8b98d8c78",
      "metadata": {
        "id": "738432e3-c2cf-42a6-b342-59d8b98d8c78"
      },
      "source": [
        "## Using data aggregation in pandas , Answer the question below:"
      ]
    },
    {
      "cell_type": "markdown",
      "id": "f1e2f138-bfde-413d-af1b-36542c4e093d",
      "metadata": {
        "id": "f1e2f138-bfde-413d-af1b-36542c4e093d"
      },
      "source": [
        "Show the total amount of passengers who survived and not survived (10pts)"
      ]
    },
    {
      "cell_type": "code",
      "execution_count": null,
      "id": "a0a7e3e5",
      "metadata": {
        "id": "a0a7e3e5",
        "outputId": "5aac6c79-4f51-402d-b219-a69401fc4657"
      },
      "outputs": [
        {
          "data": {
            "text/plain": [
              "Survived\n",
              "0    549\n",
              "1    342\n",
              "Name: PassengerId, dtype: int64"
            ]
          },
          "execution_count": 15,
          "metadata": {},
          "output_type": "execute_result"
        }
      ],
      "source": [
        "#code goes here\n",
        "df2=pd.read_csv('http://bit.ly/kaggletrain')\n",
        "\n",
        "df2.groupby('Survived').count()['PassengerId']"
      ]
    },
    {
      "cell_type": "markdown",
      "id": "467953a8-e3d4-4d88-9ad7-3786fb206863",
      "metadata": {
        "id": "467953a8-e3d4-4d88-9ad7-3786fb206863"
      },
      "source": [
        "Show all male survivors from titanic incident (10 pts)"
      ]
    },
    {
      "cell_type": "code",
      "execution_count": null,
      "id": "5f31ff28",
      "metadata": {
        "id": "5f31ff28",
        "outputId": "cf7dd056-c572-403d-d901-dfb8a4a2ceb1"
      },
      "outputs": [
        {
          "data": {
            "text/plain": [
              "Survived                                                  109\n",
              "Name        Williams, Mr. Charles EugeneBeesley, Mr. Lawre...\n",
              "Sex         malemalemalemalemalemalemalemalemalemalemalema...\n",
              "Age                                                   2536.67\n",
              "dtype: object"
            ]
          },
          "execution_count": 49,
          "metadata": {},
          "output_type": "execute_result"
        }
      ],
      "source": [
        "#code goes here\n",
        "male_data = df.loc[\n",
        "    (df['Sex'] == 'male') &\n",
        "    (df['Survived'] > 0)]\n",
        "male_data = male_data.drop(['PassengerId','Pclass','SibSp','Parch','Ticket','Cabin','Fare','Embarked'], axis=1)\n",
        "male_data.sum()"
      ]
    },
    {
      "cell_type": "markdown",
      "id": "5f2a9625-b95c-4f2c-90d7-85851ea6cb2e",
      "metadata": {
        "id": "5f2a9625-b95c-4f2c-90d7-85851ea6cb2e"
      },
      "source": [
        "Show the average fare paid based on gender (10 pts)"
      ]
    },
    {
      "cell_type": "code",
      "execution_count": null,
      "id": "52d7eb93-724c-41a8-a93c-6b7118130875",
      "metadata": {
        "id": "52d7eb93-724c-41a8-a93c-6b7118130875",
        "outputId": "dadee485-0341-4583-f302-636b93e20c54"
      },
      "outputs": [
        {
          "data": {
            "text/plain": [
              "Sex\n",
              "female    44.479818\n",
              "male      25.523893\n",
              "Name: Fare, dtype: float64"
            ]
          },
          "execution_count": 50,
          "metadata": {},
          "output_type": "execute_result"
        }
      ],
      "source": [
        "#code goes here\n",
        "df.groupby('Sex').mean()['Fare']"
      ]
    },
    {
      "cell_type": "markdown",
      "id": "6392e690-c0d1-4c6e-8873-02d8c0c7b610",
      "metadata": {
        "id": "6392e690-c0d1-4c6e-8873-02d8c0c7b610"
      },
      "source": [
        "Show the total amount of passengers who survived and not survived based on gender (10pts)"
      ]
    },
    {
      "cell_type": "code",
      "execution_count": null,
      "id": "381bfdde-9ffc-4b13-aa4d-4ada2e022e19",
      "metadata": {
        "id": "381bfdde-9ffc-4b13-aa4d-4ada2e022e19",
        "outputId": "96dca3f8-f816-4644-a7cd-afbf8e2eaa03"
      },
      "outputs": [
        {
          "data": {
            "text/html": [
              "<div>\n",
              "<style scoped>\n",
              "    .dataframe tbody tr th:only-of-type {\n",
              "        vertical-align: middle;\n",
              "    }\n",
              "\n",
              "    .dataframe tbody tr th {\n",
              "        vertical-align: top;\n",
              "    }\n",
              "\n",
              "    .dataframe thead th {\n",
              "        text-align: right;\n",
              "    }\n",
              "</style>\n",
              "<table border=\"1\" class=\"dataframe\">\n",
              "  <thead>\n",
              "    <tr style=\"text-align: right;\">\n",
              "      <th></th>\n",
              "      <th></th>\n",
              "      <th>Pclass</th>\n",
              "    </tr>\n",
              "    <tr>\n",
              "      <th>Sex</th>\n",
              "      <th>Survived</th>\n",
              "      <th></th>\n",
              "    </tr>\n",
              "  </thead>\n",
              "  <tbody>\n",
              "    <tr>\n",
              "      <th rowspan=\"2\" valign=\"top\">female</th>\n",
              "      <th>0</th>\n",
              "      <td>81</td>\n",
              "    </tr>\n",
              "    <tr>\n",
              "      <th>1</th>\n",
              "      <td>233</td>\n",
              "    </tr>\n",
              "    <tr>\n",
              "      <th rowspan=\"2\" valign=\"top\">male</th>\n",
              "      <th>0</th>\n",
              "      <td>468</td>\n",
              "    </tr>\n",
              "    <tr>\n",
              "      <th>1</th>\n",
              "      <td>109</td>\n",
              "    </tr>\n",
              "  </tbody>\n",
              "</table>\n",
              "</div>"
            ],
            "text/plain": [
              "                 Pclass\n",
              "Sex    Survived        \n",
              "female 0             81\n",
              "       1            233\n",
              "male   0            468\n",
              "       1            109"
            ]
          },
          "execution_count": 51,
          "metadata": {},
          "output_type": "execute_result"
        }
      ],
      "source": [
        "df2[['Sex', 'Survived', 'Pclass']].groupby(['Sex', 'Survived']).count()"
      ]
    }
  ],
  "metadata": {
    "kernelspec": {
      "display_name": "Python 3.10.5 64-bit",
      "language": "python",
      "name": "python3"
    },
    "language_info": {
      "codemirror_mode": {
        "name": "ipython",
        "version": 3
      },
      "file_extension": ".py",
      "mimetype": "text/x-python",
      "name": "python",
      "nbconvert_exporter": "python",
      "pygments_lexer": "ipython3",
      "version": "3.10.5"
    },
    "vscode": {
      "interpreter": {
        "hash": "876db7d3f8682b7e4c5477e5f1e2dc2bd1b19fe05d9aabd59218369070754b39"
      }
    },
    "colab": {
      "provenance": [],
      "include_colab_link": true
    }
  },
  "nbformat": 4,
  "nbformat_minor": 5
}